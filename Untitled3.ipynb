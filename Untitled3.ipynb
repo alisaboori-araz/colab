{
  "nbformat": 4,
  "nbformat_minor": 0,
  "metadata": {
    "colab": {
      "provenance": [],
      "authorship_tag": "ABX9TyNibIAhnFHcYqc51f6kx3iq",
      "include_colab_link": true
    },
    "kernelspec": {
      "name": "python3",
      "display_name": "Python 3"
    },
    "language_info": {
      "name": "python"
    }
  },
  "cells": [
    {
      "cell_type": "markdown",
      "metadata": {
        "id": "view-in-github",
        "colab_type": "text"
      },
      "source": [
        "<a href=\"https://colab.research.google.com/github/alisaboori-araz/colab/blob/master/Untitled3.ipynb\" target=\"_parent\"><img src=\"https://colab.research.google.com/assets/colab-badge.svg\" alt=\"Open In Colab\"/></a>"
      ]
    },
    {
      "cell_type": "code",
      "source": [
        "!pip install --upgrade pip"
      ],
      "metadata": {
        "id": "ce1hiSK6AdiU"
      },
      "execution_count": null,
      "outputs": []
    },
    {
      "cell_type": "code",
      "source": [
        "!pip install --upgrade Pillow"
      ],
      "metadata": {
        "id": "er5Xr0aQArn7"
      },
      "execution_count": null,
      "outputs": []
    },
    {
      "cell_type": "code",
      "execution_count": null,
      "metadata": {
        "id": "ksbf-Yrzj2bw"
      },
      "outputs": [],
      "source": [
        "!pip install Pillow python-barcode"
      ]
    },
    {
      "cell_type": "code",
      "source": [
        "import csv\n",
        "from PIL import Image, ImageDraw, ImageFont\n",
        "from barcode import Code128\n",
        "from barcode.writer import ImageWriter\n",
        "import io\n",
        "\n",
        "\n",
        "# import sys\n",
        "\n",
        "# def trace(frame, event, arg):\n",
        "#     print(\"%s, %s:%d\" % (event, frame.f_code.co_filename, frame.f_lineno))\n",
        "#     return trace\n",
        "\n",
        "\n",
        "# sys.settrace(trace)\n",
        "\n",
        "\n",
        "def create_barcode_image(csv_file, index, template_image_path,total_width):\n",
        "    # Read the CSV file and find the matching row\n",
        "    with open(csv_file, 'r') as file:\n",
        "        csv_reader = csv.reader(file)\n",
        "        next(csv_reader)  # Skip the header row\n",
        "        for row in csv_reader:\n",
        "                if int(row[0]) < int(index):\n",
        "                  continue\n",
        "                print(f\"Index: {index}\")\n",
        "                hex_value = row[1]\n",
        "                print(row)\n",
        "                print(hex_value)\n",
        "\n",
        "\n",
        "\n",
        "                # Generate the barcode\n",
        "                # code128 = get_barcode_class('code128')\n",
        "                barcode_writer = ImageWriter()\n",
        "                barcode_obj = Code128(hex_value, writer=barcode_writer)\n",
        "                options = {\n",
        "        'font_size': 7,\n",
        "        'text_distance': 4,'module_height':12,\n",
        "        'font_path':\"/content/temp/fonts/RobotoMono-Bold.ttf\",\n",
        "        'write_text': False\n",
        "        # 'background':None\n",
        "        # 'module_width':0.5\n",
        "    }\n",
        "                if total_width:\n",
        "                       # Calculate module_width based on desired total_width\n",
        "                       num_modules = sum(len(i) for i in barcode_obj.build())\n",
        "                       module_width = total_width / num_modules\n",
        "                       options['module_width'] = module_width\n",
        "\n",
        "                barcode_image = barcode_obj.render(writer_options=options)\n",
        "                # Convert the barcode image to RGBA mode\n",
        "                barcode_image = barcode_image.convert('RGBA')\n",
        "\n",
        "\n",
        "                # # Create a barcode\n",
        "                # barcode = Code128(hex_value, writer=ImageWriter())\n",
        "\n",
        "                # # Save the barcode to a BytesIO object\n",
        "                # buffer = io.BytesIO()\n",
        "                # barcode.write(buffer)\n",
        "\n",
        "                # # Open the barcode image from the buffer\n",
        "                # barcode_image = Image.open(buffer)\n",
        "\n",
        "                # Open the template image\n",
        "                template_image = Image.open(template_image_path)\n",
        "\n",
        "                # # Resize barcode\n",
        "                barcode_width = int(template_image.width * 0.8)\n",
        "                barcode_height = int(template_image.height * 0.2)\n",
        "                # barcode_image = barcode_image.resize((barcode_width, barcode_height))\n",
        "\n",
        "                # # Paste barcode onto the template image\n",
        "                barcode_text_x = (template_image.width ) / 2\n",
        "                barcode_y = int(template_image.height * 0.1)\n",
        "                # template_image.paste(barcode_image, (barcode_x, barcode_y))\n",
        "\n",
        "                # Add text\n",
        "                id_font = ImageFont.truetype(\"/content/temp/fonts/RobotoMono-Bold.ttf\", size=48, encoding=\"unic\")\n",
        "                barcode_font = ImageFont.truetype(\"/content/temp/fonts/RobotoMono-Bold.ttf\", size=28, encoding=\"unic\")\n",
        "                draw = ImageDraw.Draw(template_image)\n",
        "                # font = ImageFont.load_default()\n",
        "\n",
        "                # # Add hex value below barcode\n",
        "                # draw.text((barcode_x, barcode_y + barcode_height + 10), hex_value, fill=\"black\", font=font)\n",
        "\n",
        "                # Add index to middle rectangle\n",
        "                template_image.paste(barcode_image, (200, 115), barcode_image)\n",
        "                draw.text((barcode_text_x, 270), hex_value, fill=\"black\", font=barcode_font, align=\"center\")\n",
        "                draw.text((220, 360), str(index), fill=\"black\", font=id_font )\n",
        "                # x_position , y_position\n",
        "\n",
        "                # Save the result\n",
        "                template_image.save(f'output_image_{index}.png')\n",
        "                print(f'Image saved as {f\"output_image_{index}.png\"}')\n",
        "                index=str(int(index)+1)\n",
        "                # return\n",
        "\n",
        "        print(f\"Index {index} not found in the CSV file.\")\n",
        "\n",
        "\n",
        "\n",
        "# Example usage\n",
        "csv_file = '/content/csv-1601-2000.txt'\n",
        "index = input(\"Enter the index number: \")\n",
        "template_image = '/content/template_image.png'\n",
        "# output_image = f\"output_image_{index}.png\"\n",
        "\n",
        "create_barcode_image(csv_file, index, template_image, 58)\n",
        "\n",
        "\n",
        "\n"
      ],
      "metadata": {
        "id": "FhmOF7Yzqf00"
      },
      "execution_count": null,
      "outputs": []
    },
    {
      "cell_type": "code",
      "source": [
        "import os\n",
        "import zipfile\n",
        "\n",
        "def zip_files_with_prefix(prefix, zip_filename):\n",
        "    # Get the current working directory\n",
        "    current_dir = os.getcwd()\n",
        "\n",
        "    # List all files in the current directory\n",
        "    files_to_zip = [f for f in os.listdir(current_dir) if f.startswith(prefix)]\n",
        "\n",
        "    # Create a ZipFile object\n",
        "    with zipfile.ZipFile(zip_filename, 'w') as zipf:\n",
        "        for file in files_to_zip:\n",
        "            zipf.write(file)\n",
        "            os.remove(file)\n",
        "            print(f'File {file} added to the zip. and removed from directory')\n",
        "\n",
        "    print(f'All files starting with \"{prefix}\" have been zipped into {zip_filename}')\n",
        "\n",
        "# Example usage\n",
        "zip_files_with_prefix('output_image', 'images.zip')\n"
      ],
      "metadata": {
        "id": "EMMMXg8fQiQl"
      },
      "execution_count": null,
      "outputs": []
    }
  ]
}