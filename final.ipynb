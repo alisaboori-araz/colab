{
  "nbformat": 4,
  "nbformat_minor": 0,
  "metadata": {
    "colab": {
      "provenance": [],
      "authorship_tag": "ABX9TyOFzXNm/hMgDk1UUl6AUFjA",
      "include_colab_link": true
    },
    "kernelspec": {
      "name": "python3",
      "display_name": "Python 3"
    },
    "language_info": {
      "name": "python"
    }
  },
  "cells": [
    {
      "cell_type": "markdown",
      "metadata": {
        "id": "view-in-github",
        "colab_type": "text"
      },
      "source": [
        "<a href=\"https://colab.research.google.com/github/alisaboori-araz/colab/blob/master/final.ipynb\" target=\"_parent\"><img src=\"https://colab.research.google.com/assets/colab-badge.svg\" alt=\"Open In Colab\"/></a>"
      ]
    },
    {
      "cell_type": "code",
      "source": [
        "!pip install --upgrade pip"
      ],
      "metadata": {
        "id": "ce1hiSK6AdiU"
      },
      "execution_count": null,
      "outputs": []
    },
    {
      "cell_type": "code",
      "source": [
        "!pip install --upgrade Pillow"
      ],
      "metadata": {
        "id": "er5Xr0aQArn7"
      },
      "execution_count": null,
      "outputs": []
    },
    {
      "cell_type": "code",
      "execution_count": null,
      "metadata": {
        "id": "ksbf-Yrzj2bw"
      },
      "outputs": [],
      "source": [
        "!pip install Pillow python-barcode"
      ]
    },
    {
      "cell_type": "code",
      "source": [
        "import csv\n",
        "from PIL import Image, ImageDraw, ImageFont\n",
        "from barcode import Code128\n",
        "from barcode.writer import ImageWriter\n",
        "import io\n",
        "\n",
        "\n",
        "# import sys\n",
        "\n",
        "# def trace(frame, event, arg):\n",
        "#     print(\"%s, %s:%d\" % (event, frame.f_code.co_filename, frame.f_lineno))\n",
        "#     return trace\n",
        "\n",
        "\n",
        "# sys.settrace(trace)\n",
        "\n",
        "\n",
        "def create_barcode_image(csv_file, index, template_image_path,total_width):\n",
        "    # Read the CSV file and find the matching row\n",
        "    with open(csv_file, 'r') as file:\n",
        "        csv_reader = csv.reader(file)\n",
        "        next(csv_reader)  # Skip the header row\n",
        "        for row in csv_reader:\n",
        "                if int(row[0]) < int(index):\n",
        "                  continue\n",
        "                print(f\"Index: {index}\")\n",
        "                hex_value = row[1]\n",
        "                print(row)\n",
        "                print(hex_value)\n",
        "\n",
        "\n",
        "\n",
        "                # Generate the barcode\n",
        "\n",
        "                barcode_writer = ImageWriter()\n",
        "                barcode_obj = Code128(hex_value, writer=barcode_writer)\n",
        "                options = {\n",
        "                'font_size': 7,\n",
        "                'text_distance': 4,'module_height':12,\n",
        "                'font_path':\"/content/temp/fonts/RobotoMono-Bold.ttf\",\n",
        "                'write_text': False\n",
        "                }\n",
        "\n",
        "                if total_width:\n",
        "                       # Calculate module_width based on desired total_width\n",
        "                       num_modules = sum(len(i) for i in barcode_obj.build())\n",
        "                       module_width = total_width / num_modules\n",
        "                       options['module_width'] = module_width\n",
        "\n",
        "                barcode_image = barcode_obj.render(writer_options=options)\n",
        "\n",
        "                # Convert the barcode image to RGBA mode\n",
        "                barcode_image = barcode_image.convert('RGBA')\n",
        "\n",
        "\n",
        "\n",
        "                # Open the template image\n",
        "                template_image = Image.open(template_image_path)\n",
        "\n",
        "                # Resize barcode text\n",
        "                barcode_text_x = (template_image.width ) / 2\n",
        "\n",
        "\n",
        "                # Add text\n",
        "                id_font = ImageFont.truetype(\"/content/temp/fonts/RobotoMono-Bold.ttf\", size=48, encoding=\"unic\")\n",
        "                barcode_font = ImageFont.truetype(\"/content/temp/fonts/RobotoMono-Bold.ttf\", size=28, encoding=\"unic\")\n",
        "\n",
        "                # draw content\n",
        "                draw = ImageDraw.Draw(template_image)\n",
        "                template_image.paste(barcode_image, (200, 115), barcode_image)\n",
        "                draw.text((barcode_text_x, 270), hex_value, fill=\"black\", font=barcode_font, align=\"center\")\n",
        "                draw.text((220, 360), str(index), fill=\"black\", font=id_font )\n",
        "\n",
        "\n",
        "                # Save the result\n",
        "                template_image.save(f'{index}.png')\n",
        "                print(f'Image saved as {f\"{index}.png\"}')\n",
        "                index=str(int(index)+1)\n",
        "                # return\n",
        "\n",
        "        print(f\"Index {index} not found in the CSV file.\")\n",
        "\n",
        "\n",
        "\n",
        "# Example usage\n",
        "csv_file = '/content/csv-1601-2000.txt'\n",
        "index = input(\"Enter the index number: \")\n",
        "template_image = '/content/template_image.png'\n",
        "# output_image = f\"output_image_{index}.png\"\n",
        "\n",
        "create_barcode_image(csv_file, index, template_image, 58)\n",
        "\n",
        "\n",
        "\n",
        "\n"
      ],
      "metadata": {
        "id": "FhmOF7Yzqf00",
        "colab": {
          "base_uri": "https://localhost:8080/",
          "height": 1000
        },
        "outputId": "360e5fd1-e076-42b1-cc10-e8b49a38a114"
      },
      "execution_count": 69,
      "outputs": [
        {
          "output_type": "stream",
          "name": "stdout",
          "text": [
            "Enter the index number: 1990\n",
            "Index: 1990\n",
            "['1990', 'C727857C', '3341256060']\n",
            "C727857C\n",
            "Image saved as 1990.png\n",
            "Index: 1991\n",
            "['1991', '660CEAFD', '1712122621']\n",
            "660CEAFD\n",
            "Image saved as 1991.png\n",
            "Index: 1992\n",
            "['1992', '1CE068DC', '484468956']\n",
            "1CE068DC\n",
            "Image saved as 1992.png\n",
            "Index: 1993\n",
            "['1993', '35E4FD23', '904199459']\n",
            "35E4FD23\n",
            "Image saved as 1993.png\n",
            "Index: 1994\n",
            "['1994', '6305FFD1', '1661337553']\n",
            "6305FFD1\n",
            "Image saved as 1994.png\n",
            "Index: 1995\n",
            "['1995', '61264D77', '1629900151']\n",
            "61264D77\n",
            "Image saved as 1995.png\n",
            "Index: 1996\n",
            "['1996', '49CB1C1A', '1238047770']\n",
            "49CB1C1A\n",
            "Image saved as 1996.png\n",
            "Index: 1997\n",
            "['1997', '53806E2A', '1400925738']\n",
            "53806E2A\n",
            "Image saved as 1997.png\n",
            "Index: 1998\n",
            "['1998', 'C9213D78', '3374398840']\n",
            "C9213D78\n",
            "Image saved as 1998.png\n",
            "Index: 1999\n",
            "['1999', '2CE367DC', '753100764']\n",
            "2CE367DC\n",
            "Image saved as 1999.png\n",
            "Index: 2000\n",
            "['2000', '7F1B7C34', '2132507700']\n",
            "7F1B7C34\n",
            "Image saved as 2000.png\n"
          ]
        },
        {
          "output_type": "error",
          "ename": "IndexError",
          "evalue": "list index out of range",
          "traceback": [
            "\u001b[0;31m---------------------------------------------------------------------------\u001b[0m",
            "\u001b[0;31mIndexError\u001b[0m                                Traceback (most recent call last)",
            "\u001b[0;32m<ipython-input-69-b6a03579624a>\u001b[0m in \u001b[0;36m<cell line: 91>\u001b[0;34m()\u001b[0m\n\u001b[1;32m     89\u001b[0m \u001b[0;31m# output_image = f\"output_image_{index}.png\"\u001b[0m\u001b[0;34m\u001b[0m\u001b[0;34m\u001b[0m\u001b[0m\n\u001b[1;32m     90\u001b[0m \u001b[0;34m\u001b[0m\u001b[0m\n\u001b[0;32m---> 91\u001b[0;31m \u001b[0mcreate_barcode_image\u001b[0m\u001b[0;34m(\u001b[0m\u001b[0mcsv_file\u001b[0m\u001b[0;34m,\u001b[0m \u001b[0mindex\u001b[0m\u001b[0;34m,\u001b[0m \u001b[0mtemplate_image\u001b[0m\u001b[0;34m,\u001b[0m \u001b[0;36m58\u001b[0m\u001b[0;34m)\u001b[0m\u001b[0;34m\u001b[0m\u001b[0;34m\u001b[0m\u001b[0m\n\u001b[0m\u001b[1;32m     92\u001b[0m \u001b[0;34m\u001b[0m\u001b[0m\n\u001b[1;32m     93\u001b[0m \u001b[0;34m\u001b[0m\u001b[0m\n",
            "\u001b[0;32m<ipython-input-69-b6a03579624a>\u001b[0m in \u001b[0;36mcreate_barcode_image\u001b[0;34m(csv_file, index, template_image_path, total_width)\u001b[0m\n\u001b[1;32m     22\u001b[0m         \u001b[0mnext\u001b[0m\u001b[0;34m(\u001b[0m\u001b[0mcsv_reader\u001b[0m\u001b[0;34m)\u001b[0m  \u001b[0;31m# Skip the header row\u001b[0m\u001b[0;34m\u001b[0m\u001b[0;34m\u001b[0m\u001b[0m\n\u001b[1;32m     23\u001b[0m         \u001b[0;32mfor\u001b[0m \u001b[0mrow\u001b[0m \u001b[0;32min\u001b[0m \u001b[0mcsv_reader\u001b[0m\u001b[0;34m:\u001b[0m\u001b[0;34m\u001b[0m\u001b[0;34m\u001b[0m\u001b[0m\n\u001b[0;32m---> 24\u001b[0;31m                 \u001b[0;32mif\u001b[0m \u001b[0mint\u001b[0m\u001b[0;34m(\u001b[0m\u001b[0mrow\u001b[0m\u001b[0;34m[\u001b[0m\u001b[0;36m0\u001b[0m\u001b[0;34m]\u001b[0m\u001b[0;34m)\u001b[0m \u001b[0;34m<\u001b[0m \u001b[0mint\u001b[0m\u001b[0;34m(\u001b[0m\u001b[0mindex\u001b[0m\u001b[0;34m)\u001b[0m\u001b[0;34m:\u001b[0m\u001b[0;34m\u001b[0m\u001b[0;34m\u001b[0m\u001b[0m\n\u001b[0m\u001b[1;32m     25\u001b[0m                   \u001b[0;32mcontinue\u001b[0m\u001b[0;34m\u001b[0m\u001b[0;34m\u001b[0m\u001b[0m\n\u001b[1;32m     26\u001b[0m                 \u001b[0mprint\u001b[0m\u001b[0;34m(\u001b[0m\u001b[0;34mf\"Index: {index}\"\u001b[0m\u001b[0;34m)\u001b[0m\u001b[0;34m\u001b[0m\u001b[0;34m\u001b[0m\u001b[0m\n",
            "\u001b[0;31mIndexError\u001b[0m: list index out of range"
          ]
        }
      ]
    },
    {
      "cell_type": "code",
      "source": [
        "import os\n",
        "import zipfile\n",
        "\n",
        "def zip_files_with_prefix(prefix, zip_filename):\n",
        "    # Get the current working directory\n",
        "    current_dir = os.getcwd()\n",
        "\n",
        "    # List all files in the current directory\n",
        "    files_to_zip = [f for f in os.listdir(current_dir) if f.endswith(prefix) and not(f.startswith(\"template_image\"))]\n",
        "\n",
        "    # Create a ZipFile object\n",
        "    with zipfile.ZipFile(zip_filename, 'w') as zipf:\n",
        "        for file in files_to_zip:\n",
        "\n",
        "            # new_filename = f'new_{original_filename}'\n",
        "\n",
        "            # Rename the file before zipping\n",
        "            # os.rename(original_filename, new_filename)\n",
        "\n",
        "            zipf.write(file)\n",
        "            os.remove(file)\n",
        "            print(f'File {file} added to the zip. and removed from directory')\n",
        "\n",
        "    print(f'All files starting with \"{prefix}\" have been zipped into {zip_filename}')\n",
        "\n",
        "# Example usage\n",
        "zip_files_with_prefix('png', 'images.zip')\n"
      ],
      "metadata": {
        "colab": {
          "base_uri": "https://localhost:8080/"
        },
        "id": "EMMMXg8fQiQl",
        "outputId": "996d103b-fa35-41eb-d076-42912660c9c8"
      },
      "execution_count": 70,
      "outputs": [
        {
          "output_type": "stream",
          "name": "stdout",
          "text": [
            "File 1990.png added to the zip. and removed from directory\n",
            "File 1998.png added to the zip. and removed from directory\n",
            "File 2000.png added to the zip. and removed from directory\n",
            "File 1995.png added to the zip. and removed from directory\n",
            "File 1997.png added to the zip. and removed from directory\n",
            "File 1994.png added to the zip. and removed from directory\n",
            "File 1993.png added to the zip. and removed from directory\n",
            "File 1992.png added to the zip. and removed from directory\n",
            "File 1999.png added to the zip. and removed from directory\n",
            "File 1991.png added to the zip. and removed from directory\n",
            "File 1996.png added to the zip. and removed from directory\n",
            "All files starting with \"png\" have been zipped into images.zip\n"
          ]
        }
      ]
    }
  ]
}