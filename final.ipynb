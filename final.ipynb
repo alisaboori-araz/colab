{
  "nbformat": 4,
  "nbformat_minor": 0,
  "metadata": {
    "colab": {
      "provenance": [],
      "authorship_tag": "ABX9TyOFzXNm/hMgDk1UUl6AUFjA",
      "include_colab_link": true
    },
    "kernelspec": {
      "name": "python3",
      "display_name": "Python 3"
    },
    "language_info": {
      "name": "python"
    }
  },
  "cells": [
    {
      "cell_type": "markdown",
      "metadata": {
        "id": "view-in-github",
        "colab_type": "text"
      },
      "source": [
        "<a href=\"https://colab.research.google.com/github/alisaboori-araz/colab/blob/master/final.ipynb\" target=\"_parent\"><img src=\"https://colab.research.google.com/assets/colab-badge.svg\" alt=\"Open In Colab\"/></a>"
      ]
    },
    {
      "cell_type": "code",
      "source": [
        "!pip install --upgrade pip"
      ],
      "metadata": {
        "id": "ce1hiSK6AdiU"
      },
      "execution_count": null,
      "outputs": []
    },
    {
      "cell_type": "code",
      "source": [
        "!pip install --upgrade Pillow"
      ],
      "metadata": {
        "id": "er5Xr0aQArn7"
      },
      "execution_count": null,
      "outputs": []
    },
    {
      "cell_type": "code",
      "execution_count": null,
      "metadata": {
        "id": "ksbf-Yrzj2bw"
      },
      "outputs": [],
      "source": [
        "!pip install Pillow python-barcode"
      ]
    },
    {
      "cell_type": "code",
      "source": [
        "import csv\n",
        "from PIL import Image, ImageDraw, ImageFont\n",
        "from barcode import Code128\n",
        "from barcode.writer import ImageWriter\n",
        "import io\n",
        "\n",
        "\n",
        "# import sys\n",
        "\n",
        "# def trace(frame, event, arg):\n",
        "#     print(\"%s, %s:%d\" % (event, frame.f_code.co_filename, frame.f_lineno))\n",
        "#     return trace\n",
        "\n",
        "\n",
        "# sys.settrace(trace)\n",
        "\n",
        "\n",
        "def create_barcode_image(csv_file, index, template_image_path,total_width):\n",
        "    # Read the CSV file and find the matching row\n",
        "    with open(csv_file, 'r') as file:\n",
        "        csv_reader = csv.reader(file)\n",
        "        next(csv_reader)  # Skip the header row\n",
        "        for row in csv_reader:\n",
        "                if int(row[0]) < int(index):\n",
        "                  continue\n",
        "                print(f\"Index: {index}\")\n",
        "                hex_value = row[1]\n",
        "                print(row)\n",
        "                print(hex_value)\n",
        "\n",
        "\n",
        "\n",
        "                # Generate the barcode\n",
        "\n",
        "                barcode_writer = ImageWriter()\n",
        "                barcode_obj = Code128(hex_value, writer=barcode_writer)\n",
        "                options = {\n",
        "                'font_size': 7,\n",
        "                'text_distance': 4,'module_height':12,\n",
        "                'font_path':\"/content/temp/fonts/RobotoMono-Bold.ttf\",\n",
        "                'write_text': False\n",
        "                }\n",
        "\n",
        "                if total_width:\n",
        "                       # Calculate module_width based on desired total_width\n",
        "                       num_modules = sum(len(i) for i in barcode_obj.build())\n",
        "                       module_width = total_width / num_modules\n",
        "                       options['module_width'] = module_width\n",
        "\n",
        "                barcode_image = barcode_obj.render(writer_options=options)\n",
        "\n",
        "                # Convert the barcode image to RGBA mode\n",
        "                barcode_image = barcode_image.convert('RGBA')\n",
        "\n",
        "\n",
        "\n",
        "                # Open the template image\n",
        "                template_image = Image.open(template_image_path)\n",
        "\n",
        "                # Resize barcode text\n",
        "                barcode_text_x = (template_image.width ) / 2\n",
        "\n",
        "\n",
        "                # Add text\n",
        "                id_font = ImageFont.truetype(\"/content/temp/fonts/RobotoMono-Bold.ttf\", size=48, encoding=\"unic\")\n",
        "                barcode_font = ImageFont.truetype(\"/content/temp/fonts/RobotoMono-Bold.ttf\", size=28, encoding=\"unic\")\n",
        "\n",
        "                # draw content\n",
        "                draw = ImageDraw.Draw(template_image)\n",
        "                template_image.paste(barcode_image, (200, 115), barcode_image)\n",
        "                draw.text((barcode_text_x, 270), hex_value, fill=\"black\", font=barcode_font, align=\"center\")\n",
        "                draw.text((220, 360), str(index), fill=\"black\", font=id_font )\n",
        "\n",
        "\n",
        "                # Save the result\n",
        "                template_image.save(f'{index}.png')\n",
        "                print(f'Image saved as {f\"{index}.png\"}')\n",
        "                index=str(int(index)+1)\n",
        "                # return\n",
        "\n",
        "        print(f\"Index {index} not found in the CSV file.\")\n",
        "\n",
        "\n",
        "\n",
        "# Example usage\n",
        "csv_file = '/content/csv-1601-2000.txt'\n",
        "index = input(\"Enter the index number: \")\n",
        "template_image = '/content/template_image.png'\n",
        "# output_image = f\"output_image_{index}.png\"\n",
        "\n",
        "create_barcode_image(csv_file, index, template_image, 58)\n",
        "\n",
        "\n",
        "\n",
        "\n"
      ],
      "metadata": {
        "id": "FhmOF7Yzqf00"
      },
      "execution_count": null,
      "outputs": []
    },
    {
      "cell_type": "code",
      "source": [
        "import os\n",
        "import zipfile\n",
        "\n",
        "def zip_files_with_prefix(prefix, zip_filename):\n",
        "    # Get the current working directory\n",
        "    current_dir = os.getcwd()\n",
        "\n",
        "    # List all files in the current directory\n",
        "    files_to_zip = [f for f in os.listdir(current_dir) if f.endswith(prefix) and not(f.startswith(\"template_image\"))]\n",
        "\n",
        "    # Create a ZipFile object\n",
        "    with zipfile.ZipFile(zip_filename, 'w') as zipf:\n",
        "        for file in files_to_zip:\n",
        "\n",
        "            # new_filename = f'new_{original_filename}'\n",
        "\n",
        "            # Rename the file before zipping\n",
        "            # os.rename(original_filename, new_filename)\n",
        "\n",
        "            zipf.write(file)\n",
        "            os.remove(file)\n",
        "            print(f'File {file} added to the zip. and removed from directory')\n",
        "\n",
        "    print(f'All files starting with \"{prefix}\" have been zipped into {zip_filename}')\n",
        "\n",
        "# Example usage\n",
        "zip_files_with_prefix('png', 'images.zip')\n"
      ],
      "metadata": {
        "id": "EMMMXg8fQiQl"
      },
      "execution_count": null,
      "outputs": []
    }
  ]
}